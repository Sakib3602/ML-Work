{
  "nbformat": 4,
  "nbformat_minor": 0,
  "metadata": {
    "colab": {
      "provenance": [],
      "authorship_tag": "ABX9TyPjL38Q7T77XXSzmT3zdQAF",
      "include_colab_link": true
    },
    "kernelspec": {
      "name": "python3",
      "display_name": "Python 3"
    },
    "language_info": {
      "name": "python"
    }
  },
  "cells": [
    {
      "cell_type": "markdown",
      "metadata": {
        "id": "view-in-github",
        "colab_type": "text"
      },
      "source": [
        "<a href=\"https://colab.research.google.com/github/Sakib3602/ML-Work/blob/main/Numpy_math.ipynb\" target=\"_parent\"><img src=\"https://colab.research.google.com/assets/colab-badge.svg\" alt=\"Open In Colab\"/></a>"
      ]
    },
    {
      "cell_type": "markdown",
      "source": [
        "**Reshape**"
      ],
      "metadata": {
        "id": "MpT9S0hbVJ1H"
      }
    },
    {
      "cell_type": "code",
      "source": [
        "import numpy as np\n",
        "arr = np.random.randint(1,100, size = (10,5))\n",
        "print(arr)\n",
        "print(arr.shape)\n",
        "\n",
        "b= arr.reshape(5,10)\n",
        "print(b.shape)\n"
      ],
      "metadata": {
        "colab": {
          "base_uri": "https://localhost:8080/"
        },
        "id": "ORiKlDguVNAs",
        "outputId": "6dfde3fc-a7e3-43c4-81c8-4305fb0f0247"
      },
      "execution_count": 11,
      "outputs": [
        {
          "output_type": "stream",
          "name": "stdout",
          "text": [
            "[[58  5 95 94 53]\n",
            " [15 38 15 90 68]\n",
            " [37 39 67 27 68]\n",
            " [51 64 84 71 72]\n",
            " [53 48  5 28 97]\n",
            " [21 22 13 77 85]\n",
            " [91 63 70 56 76]\n",
            " [76 91 56 55 44]\n",
            " [52 79 57 70 20]\n",
            " [83  5 51 65 79]]\n",
            "(10, 5)\n",
            "(5, 10)\n"
          ]
        }
      ]
    },
    {
      "cell_type": "markdown",
      "source": [
        "#**Flatten**\n",
        "flatten use for convert into 1 dimention from any Dimention"
      ],
      "metadata": {
        "id": "q9bk12gjVodI"
      }
    },
    {
      "cell_type": "code",
      "source": [
        "# row wise\n",
        "ax = b.flatten()\n",
        "print(ax)\n",
        "\n",
        "# colum wise => F means colum wise and C means Row wise\n",
        "ax = np.ravel(b , order ='F')\n",
        "print(ax)"
      ],
      "metadata": {
        "colab": {
          "base_uri": "https://localhost:8080/"
        },
        "id": "XKQWQ7M3Vqur",
        "outputId": "d9264e85-8396-47af-ce7f-3ceea2fc12ba"
      },
      "execution_count": 14,
      "outputs": [
        {
          "output_type": "stream",
          "name": "stdout",
          "text": [
            "[58  5 95 94 53 15 38 15 90 68 37 39 67 27 68 51 64 84 71 72 53 48  5 28\n",
            " 97 21 22 13 77 85 91 63 70 56 76 76 91 56 55 44 52 79 57 70 20 83  5 51\n",
            " 65 79]\n",
            "[58 37 53 91 52  5 39 48 63 79 95 67  5 70 57 94 27 28 56 70 53 68 97 76\n",
            " 20 15 51 21 76 83 38 64 22 91  5 15 84 13 56 51 90 71 77 55 65 68 72 85\n",
            " 44 79]\n"
          ]
        }
      ]
    },
    {
      "cell_type": "markdown",
      "source": [
        "# ***Concatenation***\n",
        "Note : Row colum must check\n",
        "Row  wise korar somoy colum same thakte hobe\n",
        "colum wise korar somoy colum same thakte hobe"
      ],
      "metadata": {
        "id": "YIWdtOBqXBBL"
      }
    },
    {
      "cell_type": "code",
      "source": [
        "s = np.random.randint(1,20 , size = (2,3))\n",
        "s1 = np.random.randint(20,30 , size = (2,3))\n",
        "\n",
        "print(s)\n",
        "print(s1)\n",
        "\n",
        "dd = np.concatenate((s,s1) , axis= 1)\n",
        "ddd = np.concatenate((s,s1) , axis= 0)\n",
        "print(\"colum\",dd)\n",
        "print(\"row\",ddd)"
      ],
      "metadata": {
        "colab": {
          "base_uri": "https://localhost:8080/"
        },
        "id": "44rIE80aXGpJ",
        "outputId": "52b44f36-e8c1-4239-a8fd-fd91f4eb43a1"
      },
      "execution_count": 20,
      "outputs": [
        {
          "output_type": "stream",
          "name": "stdout",
          "text": [
            "[[ 5 17 14]\n",
            " [11  4 13]]\n",
            "[[28 23 24]\n",
            " [25 22 23]]\n",
            "colum [[ 5 17 14 28 23 24]\n",
            " [11  4 13 25 22 23]]\n",
            "row [[ 5 17 14]\n",
            " [11  4 13]\n",
            " [28 23 24]\n",
            " [25 22 23]]\n"
          ]
        }
      ]
    },
    {
      "cell_type": "markdown",
      "source": [
        "**Transpose**\n",
        "row gula k colum"
      ],
      "metadata": {
        "id": "wU9CyD8DZ564"
      }
    },
    {
      "cell_type": "code",
      "source": [
        "h = np.array([[10,20,30],[40,50,60]])\n",
        "print(h)\n",
        "\n",
        "transpose = h.T\n",
        "print(transpose)"
      ],
      "metadata": {
        "colab": {
          "base_uri": "https://localhost:8080/"
        },
        "id": "0WcbBT0eaBKt",
        "outputId": "edb31198-36c9-4772-b54c-64441afeaf6c"
      },
      "execution_count": 31,
      "outputs": [
        {
          "output_type": "stream",
          "name": "stdout",
          "text": [
            "[[10 20 30]\n",
            " [40 50 60]]\n",
            "[[10 40]\n",
            " [20 50]\n",
            " [30 60]]\n"
          ]
        }
      ]
    },
    {
      "cell_type": "code",
      "source": [],
      "metadata": {
        "id": "Z5c74ZcJbWQV"
      },
      "execution_count": null,
      "outputs": []
    },
    {
      "cell_type": "markdown",
      "source": [
        "**Array Split**"
      ],
      "metadata": {
        "id": "hHOsG2EvbUyt"
      }
    },
    {
      "cell_type": "code",
      "source": [
        "xp = np.random.randint(1,10, size = (10,))\n",
        "print(xp)\n",
        "o = np.array_split(xp, 3)\n",
        "print(o)\n",
        "\n",
        "# np.split only for equal distribution\n",
        "xp = np.random.randint(1,10, size = (12,))\n",
        "print(xp)\n",
        "o = np.split(xp, 3)\n",
        "print(o)\n"
      ],
      "metadata": {
        "colab": {
          "base_uri": "https://localhost:8080/"
        },
        "id": "Gf-78AiIbZQv",
        "outputId": "cd8f991a-0d58-4c3b-94cd-05f126d5147f"
      },
      "execution_count": 34,
      "outputs": [
        {
          "output_type": "stream",
          "name": "stdout",
          "text": [
            "[6 6 6 1 2 7 2 6 6 4]\n",
            "[array([6, 6, 6, 1]), array([2, 7, 2]), array([6, 6, 4])]\n",
            "[8 1 7 5 5 3 5 3 5 8 7 7]\n",
            "[array([8, 1, 7, 5]), array([5, 3, 5, 3]), array([5, 8, 7, 7])]\n"
          ]
        }
      ]
    },
    {
      "cell_type": "code",
      "source": [],
      "metadata": {
        "id": "XKAEn5X1c0d4"
      },
      "execution_count": null,
      "outputs": []
    },
    {
      "cell_type": "markdown",
      "source": [
        "# **Arithmetic**"
      ],
      "metadata": {
        "id": "ILGmBmkic0_w"
      }
    },
    {
      "cell_type": "code",
      "source": [
        "n = np.array([10,20,30,40])\n",
        "n1 = np.array([1,2,3,4])\n",
        "# + - * / % anything     must row colum same\n",
        "add = n + n1  # can use np.add(n,n1)\n",
        "print(add)"
      ],
      "metadata": {
        "colab": {
          "base_uri": "https://localhost:8080/"
        },
        "id": "Nh2zob8pc5PO",
        "outputId": "6f830a46-b4c2-4c46-a0f3-b04c697028b4"
      },
      "execution_count": 37,
      "outputs": [
        {
          "output_type": "stream",
          "name": "stdout",
          "text": [
            "[11 22 33 44]\n"
          ]
        }
      ]
    },
    {
      "cell_type": "markdown",
      "source": [
        "# ***https://www.geeksforgeeks.org/python/numpy-mathematical-function/***\n",
        "\n",
        "sin,log,cos,log10,any thing"
      ],
      "metadata": {
        "id": "7SAcBLjxegli"
      }
    },
    {
      "cell_type": "markdown",
      "source": [
        "**Brodcusting**\n",
        "1 ta number diye all arithmetic operation can be done\n",
        "\n",
        "\n",
        "can use in matrix and vector"
      ],
      "metadata": {
        "id": "IEUOq9l2fMr4"
      }
    },
    {
      "cell_type": "code",
      "source": [
        "x = np.array([10,20,30])\n",
        "\n",
        "v = x ** 2\n",
        "c = x + 2\n",
        "\n",
        "print(v)\n",
        "print(c)"
      ],
      "metadata": {
        "colab": {
          "base_uri": "https://localhost:8080/"
        },
        "id": "vQELUOi3fPfI",
        "outputId": "1e0fa8d5-2ef0-411d-ecc9-6b1e839d2503"
      },
      "execution_count": 39,
      "outputs": [
        {
          "output_type": "stream",
          "name": "stdout",
          "text": [
            "[100 400 900]\n",
            "[12 22 32]\n"
          ]
        }
      ]
    }
  ]
}