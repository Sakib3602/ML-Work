{
  "nbformat": 4,
  "nbformat_minor": 0,
  "metadata": {
    "colab": {
      "provenance": [],
      "authorship_tag": "ABX9TyPfrErv/yLNBGDADvZTTmO9",
      "include_colab_link": true
    },
    "kernelspec": {
      "name": "python3",
      "display_name": "Python 3"
    },
    "language_info": {
      "name": "python"
    }
  },
  "cells": [
    {
      "cell_type": "markdown",
      "metadata": {
        "id": "view-in-github",
        "colab_type": "text"
      },
      "source": [
        "<a href=\"https://colab.research.google.com/github/Sakib3602/ML-Work/blob/main/Numpy_Qus.ipynb\" target=\"_parent\"><img src=\"https://colab.research.google.com/assets/colab-badge.svg\" alt=\"Open In Colab\"/></a>"
      ]
    },
    {
      "cell_type": "markdown",
      "source": [
        "### Array Creation and Manipulation\n",
        "\n",
        "1. Create a NumPy array of shape (5, 5) filled with random integers between 1 and 20. Replace all the elements in the third column with 1.\n",
        "2. Create a NumPy array of shape (4, 4) with values from 1 to 16. Replace the diagonal elements with 0."
      ],
      "metadata": {
        "id": "NZychtT5kCWE"
      }
    },
    {
      "cell_type": "code",
      "source": [
        "import numpy as np\n",
        "a = np.random.randint(1,20, (5,5))\n",
        "print(a)"
      ],
      "metadata": {
        "colab": {
          "base_uri": "https://localhost:8080/"
        },
        "id": "vb_nuJnGkdPF",
        "outputId": "149bb7cc-dcd3-4b14-9420-14b09de6bf12"
      },
      "execution_count": 46,
      "outputs": [
        {
          "output_type": "stream",
          "name": "stdout",
          "text": [
            "[[ 4  1 19 12  4]\n",
            " [13 11  4  4  6]\n",
            " [ 1 11 12 14  5]\n",
            " [ 4 18  4  3  2]\n",
            " [13 17  5  7 13]]\n"
          ]
        }
      ]
    },
    {
      "cell_type": "code",
      "source": [
        "a[:,2] = 1\n",
        "print(a)"
      ],
      "metadata": {
        "colab": {
          "base_uri": "https://localhost:8080/"
        },
        "id": "5hND3pjKk0FE",
        "outputId": "f91774f8-56e2-405c-ee2d-2be063406241"
      },
      "execution_count": 47,
      "outputs": [
        {
          "output_type": "stream",
          "name": "stdout",
          "text": [
            "[[ 4  1  1 12  4]\n",
            " [13 11  1  4  6]\n",
            " [ 1 11  1 14  5]\n",
            " [ 4 18  1  3  2]\n",
            " [13 17  1  7 13]]\n"
          ]
        }
      ]
    },
    {
      "cell_type": "code",
      "source": [
        "a = np.random.randint(1,16, (4,4))\n",
        "np.fill_diagonal(a,0)\n",
        "print(a)"
      ],
      "metadata": {
        "colab": {
          "base_uri": "https://localhost:8080/"
        },
        "id": "i5gCHMduk-lG",
        "outputId": "2e301578-1b90-47e3-969f-85d7506b206b"
      },
      "execution_count": 48,
      "outputs": [
        {
          "output_type": "stream",
          "name": "stdout",
          "text": [
            "[[ 0 10 12  2]\n",
            " [14  0  3  4]\n",
            " [11 12  0  6]\n",
            " [ 5  4  6  0]]\n"
          ]
        }
      ]
    },
    {
      "cell_type": "markdown",
      "source": [
        "### Array Indexing and Slicing\n",
        "\n",
        "1. Create a NumPy array of shape (6, 6) with values from 1 to 36. Extract the sub-array consisting of the 3rd to 5th rows and 2nd to 4th columns.\n",
        "2. Create a NumPy array of shape (5, 5) with random integers. Extract the elements on the border."
      ],
      "metadata": {
        "id": "swe9vlAikDia"
      }
    },
    {
      "cell_type": "code",
      "source": [
        "a = np.random.randint(1,36, (6,6))\n",
        "print(a)\n",
        "b = a[3:6,2:5]\n",
        "print(b)"
      ],
      "metadata": {
        "colab": {
          "base_uri": "https://localhost:8080/"
        },
        "id": "MyIzCN-0lqUn",
        "outputId": "c751cd96-ccc6-4d50-afc2-d06bd82db413"
      },
      "execution_count": 49,
      "outputs": [
        {
          "output_type": "stream",
          "name": "stdout",
          "text": [
            "[[ 7 27 15 28  5 22]\n",
            " [33 13 13 20 25 35]\n",
            " [12 24 32  8 27 23]\n",
            " [ 8  9 29 18  1 11]\n",
            " [ 3 33 14 23 16  9]\n",
            " [25 15  1 17 10 34]]\n",
            "[[29 18  1]\n",
            " [14 23 16]\n",
            " [ 1 17 10]]\n"
          ]
        }
      ]
    },
    {
      "cell_type": "code",
      "source": [
        "a = np.random.randint(1,25, (5,5))\n",
        "print(a)\n",
        "\n",
        "b = np.concatenate((a[0],a[-1],a[:,0],a[:,-1]))\n",
        "\n",
        "print(b)"
      ],
      "metadata": {
        "colab": {
          "base_uri": "https://localhost:8080/"
        },
        "id": "HO58krLXmSLG",
        "outputId": "32380716-309d-448a-9723-3919b00b0f34"
      },
      "execution_count": 50,
      "outputs": [
        {
          "output_type": "stream",
          "name": "stdout",
          "text": [
            "[[23  5 17 20 22]\n",
            " [10 19  2  1 16]\n",
            " [ 8 13 24 24 19]\n",
            " [ 7 15 24  5 10]\n",
            " [23 12 17 11  5]]\n",
            "[23  5 17 20 22 23 12 17 11  5 23 10  8  7 23 22 16 19 10  5]\n"
          ]
        }
      ]
    },
    {
      "cell_type": "markdown",
      "source": [
        "### Array Operations\n",
        "\n",
        "1. Create two NumPy arrays of shape (3, 4) filled with random integers. Perform element-wise addition, subtraction, multiplication, and division.\n",
        "2. Create a NumPy array of shape (4, 4) with values from 1 to 16. Compute the row-wise and column-wise sum."
      ],
      "metadata": {
        "id": "S-ZPwwUxkGJ5"
      }
    },
    {
      "cell_type": "code",
      "source": [
        "x = np.array([10,20,30])\n",
        "y = np.array([1,2,3])\n",
        "\n",
        "sum = x + y\n",
        "mul = x * y\n",
        "div = x / y\n",
        "print(sum)\n",
        "print(mul)\n",
        "print(div)"
      ],
      "metadata": {
        "id": "0dgxle8jnsqP",
        "colab": {
          "base_uri": "https://localhost:8080/"
        },
        "outputId": "7f737a09-3432-4466-df43-ff9950638e2c"
      },
      "execution_count": 51,
      "outputs": [
        {
          "output_type": "stream",
          "name": "stdout",
          "text": [
            "[11 22 33]\n",
            "[10 40 90]\n",
            "[10. 10. 10.]\n"
          ]
        }
      ]
    },
    {
      "cell_type": "code",
      "source": [
        "c = np.random.randint(1,16, (4,4))\n",
        "print(c)\n",
        "#row\n",
        "row = 0\n",
        "col = 0\n",
        "for i in range(4):\n",
        "  first = c[i,].sum()\n",
        "  row += first\n",
        "for i in range(4):\n",
        "  first = c[i,].sum()\n",
        "  col += first\n",
        "\n",
        "print(row)\n",
        "print(col)"
      ],
      "metadata": {
        "colab": {
          "base_uri": "https://localhost:8080/"
        },
        "id": "Ni_rFgpXjlik",
        "outputId": "398d99cb-bb69-47c1-8293-8e00bafad4de"
      },
      "execution_count": 52,
      "outputs": [
        {
          "output_type": "stream",
          "name": "stdout",
          "text": [
            "[[ 1 12  4  8]\n",
            " [14  8 10  7]\n",
            " [ 1 10  7  8]\n",
            " [ 9 11  6 12]]\n",
            "128\n",
            "128\n"
          ]
        }
      ]
    },
    {
      "cell_type": "markdown",
      "source": [
        "### Statistical Operations\n",
        "\n",
        "1. Create a NumPy array of shape (5, 5) filled with random integers. Compute the mean, median, standard deviation, and variance of the array."
      ],
      "metadata": {
        "id": "LrbrFr89kI1B"
      }
    },
    {
      "cell_type": "code",
      "source": [
        "sta = np.random.randint(1,25,(5,5))\n",
        "print(sta)\n",
        "\n",
        "m = np.mean(sta)\n",
        "stand = np.std(sta)\n",
        "print(round(m))\n",
        "print(stand)"
      ],
      "metadata": {
        "colab": {
          "base_uri": "https://localhost:8080/"
        },
        "id": "fJr1OGMlkyzp",
        "outputId": "d67ef429-0eb5-4e70-d1a5-67fb5236ea22"
      },
      "execution_count": 53,
      "outputs": [
        {
          "output_type": "stream",
          "name": "stdout",
          "text": [
            "[[20 21 10  9 16]\n",
            " [ 5 20  4  8  4]\n",
            " [ 8  6 20 21  4]\n",
            " [15 20 10  1 21]\n",
            " [17 23  9  8 11]]\n",
            "12\n",
            "6.747325396036566\n"
          ]
        }
      ]
    },
    {
      "cell_type": "markdown",
      "source": [],
      "metadata": {
        "id": "wdt_vlr-kTE4"
      }
    },
    {
      "cell_type": "markdown",
      "source": [
        "### Broadcasting\n",
        "\n",
        "1. Create a NumPy array of shape (3, 3) filled with random integers. Add a 1D array of shape (3,) to each row of the 2D array using broadcasting.\n",
        "2. Create a NumPy array of shape (4, 4) filled with random integers. Subtract a 1D array of shape (4,) from each column of the 2D array using broadcasting."
      ],
      "metadata": {
        "id": "V9erZxWlkLbR"
      }
    },
    {
      "cell_type": "code",
      "source": [
        "mat = np.array([[10,20,30],[1,2,3]])\n",
        "\n",
        "va = np.array([1,2,3])\n",
        "result = mat + va\n",
        "print(result)"
      ],
      "metadata": {
        "colab": {
          "base_uri": "https://localhost:8080/"
        },
        "id": "X498-p8mqSK6",
        "outputId": "e3ed0a50-e67d-4034-837c-8bcfdf3161db"
      },
      "execution_count": 54,
      "outputs": [
        {
          "output_type": "stream",
          "name": "stdout",
          "text": [
            "[[11 22 33]\n",
            " [ 2  4  6]]\n"
          ]
        }
      ]
    },
    {
      "cell_type": "code",
      "source": [
        "mat = np.array([[10,20,30,40],[11,12,3,40]])\n",
        "\n",
        "va = np.array([1,2,3,4])\n",
        "result = mat - va\n",
        "print(result)"
      ],
      "metadata": {
        "colab": {
          "base_uri": "https://localhost:8080/"
        },
        "id": "oIuc7E98qmjr",
        "outputId": "0add7f36-2cbf-4781-f258-5ff79467f0bf"
      },
      "execution_count": 55,
      "outputs": [
        {
          "output_type": "stream",
          "name": "stdout",
          "text": [
            "[[ 9 18 27 36]\n",
            " [10 10  0 36]]\n"
          ]
        }
      ]
    },
    {
      "cell_type": "code",
      "source": [
        "#exploring\n",
        "mat = np.array([[10,20,30,40],[11,12,3,40]])\n",
        "print(mat)\n",
        "\n",
        "p = np.sort(mat,axis=0)\n",
        "\n",
        "print(p)"
      ],
      "metadata": {
        "colab": {
          "base_uri": "https://localhost:8080/"
        },
        "id": "ay7imrcTrVsM",
        "outputId": "42c58876-d3d9-4275-8e63-3e98c0f2b360"
      },
      "execution_count": 56,
      "outputs": [
        {
          "output_type": "stream",
          "name": "stdout",
          "text": [
            "[[10 20 30 40]\n",
            " [11 12  3 40]]\n",
            "[[10 12  3 40]\n",
            " [11 20 30 40]]\n"
          ]
        }
      ]
    },
    {
      "cell_type": "code",
      "source": [
        "# exploring search\n",
        "d = np.array([1,2,3,4,5,6,9])\n",
        "p = np.where(d==4)\n",
        "p = np.where(d > 4 , d, 0)\n",
        "print(p)"
      ],
      "metadata": {
        "colab": {
          "base_uri": "https://localhost:8080/"
        },
        "id": "x9YqlBcOseNq",
        "outputId": "dbf09041-e266-4a13-dcdb-74b9b2c852e9"
      },
      "execution_count": 57,
      "outputs": [
        {
          "output_type": "stream",
          "name": "stdout",
          "text": [
            "[0 0 0 0 5 6 9]\n"
          ]
        }
      ]
    },
    {
      "cell_type": "markdown",
      "source": [
        "### Linear Algebra\n",
        "\n",
        "1. Create two NumPy arrays of shape (2, 3) and (3, 2). Perform matrix multiplication on these arrays."
      ],
      "metadata": {
        "id": "G5u4YarnkOzi"
      }
    },
    {
      "cell_type": "code",
      "source": [
        "a = np.random.randint(2,3,(2,3))\n",
        "b = np.random.randint(2,3,(3,2))\n",
        "x = np.dot(a,b)\n",
        "print(x)"
      ],
      "metadata": {
        "colab": {
          "base_uri": "https://localhost:8080/"
        },
        "id": "zHCeNFfkt_dB",
        "outputId": "cfcf3b71-c7f7-4eb9-d03b-ad7b754fa8c8"
      },
      "execution_count": 58,
      "outputs": [
        {
          "output_type": "stream",
          "name": "stdout",
          "text": [
            "[[12 12]\n",
            " [12 12]]\n"
          ]
        }
      ]
    },
    {
      "cell_type": "markdown",
      "source": [
        "### Advanced Array Manipulation\n",
        "\n",
        "1. Create a NumPy array of shape (3, 3) with values from 1 to 9. Reshape the array to shape (1, 9) and then to shape (9, 1).\n",
        "2. Create a NumPy array of shape (5, 5) filled with random integers. Flatten the array and then reshape it back to (5, 5)."
      ],
      "metadata": {
        "id": "ugY8K1LlkQ9m"
      }
    },
    {
      "cell_type": "code",
      "source": [
        "a = np.random.randint(1,9, (3,3))\n",
        "print(a)\n",
        "a.reshape(1,9)\n",
        "print(a)\n",
        "a.reshape(9,1)\n",
        "print(\"-----------\")\n",
        "print(a)"
      ],
      "metadata": {
        "colab": {
          "base_uri": "https://localhost:8080/"
        },
        "id": "CE1z2XOruO2-",
        "outputId": "2dfdfda4-96d0-4e1a-88bb-bc3c733e6191"
      },
      "execution_count": 59,
      "outputs": [
        {
          "output_type": "stream",
          "name": "stdout",
          "text": [
            "[[5 8 1]\n",
            " [6 3 8]\n",
            " [5 6 5]]\n",
            "[[5 8 1]\n",
            " [6 3 8]\n",
            " [5 6 5]]\n",
            "-----------\n",
            "[[5 8 1]\n",
            " [6 3 8]\n",
            " [5 6 5]]\n"
          ]
        }
      ]
    },
    {
      "cell_type": "markdown",
      "source": [
        "### **Boolean Indexing**\n",
        "\n",
        "1. Create a NumPy array of shape (4, 4) filled with random integers. Use boolean indexing to set all elements greater than 10 to 10."
      ],
      "metadata": {
        "id": "yRp4tMcvkUeK"
      }
    },
    {
      "cell_type": "code",
      "source": [
        "a = np.random.randint(1,20, (4,4))\n",
        "print(a[a>=10])"
      ],
      "metadata": {
        "colab": {
          "base_uri": "https://localhost:8080/"
        },
        "id": "uqJ8ZMMO3RVf",
        "outputId": "e052b9ad-d1ba-4918-9594-f5fb29c94d43"
      },
      "execution_count": 60,
      "outputs": [
        {
          "output_type": "stream",
          "name": "stdout",
          "text": [
            "[10 11 19 15 13 14 16 14 18 11]\n"
          ]
        }
      ]
    }
  ]
}