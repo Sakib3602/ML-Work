{
  "nbformat": 4,
  "nbformat_minor": 0,
  "metadata": {
    "colab": {
      "provenance": [],
      "authorship_tag": "ABX9TyMS8dy+Z7PofT5xW74jr1V9",
      "include_colab_link": true
    },
    "kernelspec": {
      "name": "python3",
      "display_name": "Python 3"
    },
    "language_info": {
      "name": "python"
    }
  },
  "cells": [
    {
      "cell_type": "markdown",
      "metadata": {
        "id": "view-in-github",
        "colab_type": "text"
      },
      "source": [
        "<a href=\"https://colab.research.google.com/github/Sakib3602/ML-Work/blob/main/Numpy_Qus.ipynb\" target=\"_parent\"><img src=\"https://colab.research.google.com/assets/colab-badge.svg\" alt=\"Open In Colab\"/></a>"
      ]
    },
    {
      "cell_type": "code",
      "execution_count": null,
      "metadata": {
        "id": "jZKW8yytkBCo"
      },
      "outputs": [],
      "source": []
    },
    {
      "cell_type": "markdown",
      "source": [
        "### Array Creation and Manipulation\n",
        "\n",
        "1. Create a NumPy array of shape (5, 5) filled with random integers between 1 and 20. Replace all the elements in the third column with 1.\n",
        "2. Create a NumPy array of shape (4, 4) with values from 1 to 16. Replace the diagonal elements with 0."
      ],
      "metadata": {
        "id": "NZychtT5kCWE"
      }
    },
    {
      "cell_type": "code",
      "source": [
        "import numpy as np\n",
        "a = np.random.randint(1,20, (5,5))\n",
        "print(a)"
      ],
      "metadata": {
        "colab": {
          "base_uri": "https://localhost:8080/"
        },
        "id": "vb_nuJnGkdPF",
        "outputId": "31f205ec-d549-4065-93be-5de719f67692"
      },
      "execution_count": 1,
      "outputs": [
        {
          "output_type": "stream",
          "name": "stdout",
          "text": [
            "[[11 10  8 14  1]\n",
            " [ 7  5  2 14  9]\n",
            " [18 15  2 11 16]\n",
            " [ 6 14  3 19 15]\n",
            " [ 4  9  2 19 10]]\n"
          ]
        }
      ]
    },
    {
      "cell_type": "code",
      "source": [
        "a[:,2] = 1\n",
        "print(a)"
      ],
      "metadata": {
        "colab": {
          "base_uri": "https://localhost:8080/"
        },
        "id": "5hND3pjKk0FE",
        "outputId": "68349c15-dba9-4831-f9f4-e1639b1a306a"
      },
      "execution_count": 2,
      "outputs": [
        {
          "output_type": "stream",
          "name": "stdout",
          "text": [
            "[[11 10  1 14  1]\n",
            " [ 7  5  1 14  9]\n",
            " [18 15  1 11 16]\n",
            " [ 6 14  1 19 15]\n",
            " [ 4  9  1 19 10]]\n"
          ]
        }
      ]
    },
    {
      "cell_type": "code",
      "source": [
        "a = np.random.randint(1,16, (4,4))\n",
        "np.fill_diagonal(a,0)\n",
        "print(a)"
      ],
      "metadata": {
        "colab": {
          "base_uri": "https://localhost:8080/"
        },
        "id": "i5gCHMduk-lG",
        "outputId": "0d39832e-71ea-42c9-cecd-770a28c706fe"
      },
      "execution_count": 5,
      "outputs": [
        {
          "output_type": "stream",
          "name": "stdout",
          "text": [
            "[[ 0  9  1  2]\n",
            " [12  0  7  5]\n",
            " [ 4  3  0  8]\n",
            " [10  9  4  0]]\n"
          ]
        }
      ]
    },
    {
      "cell_type": "markdown",
      "source": [
        "### Array Indexing and Slicing\n",
        "\n",
        "1. Create a NumPy array of shape (6, 6) with values from 1 to 36. Extract the sub-array consisting of the 3rd to 5th rows and 2nd to 4th columns.\n",
        "2. Create a NumPy array of shape (5, 5) with random integers. Extract the elements on the border."
      ],
      "metadata": {
        "id": "swe9vlAikDia"
      }
    },
    {
      "cell_type": "code",
      "source": [
        "a = np.random.randint(1,36, (6,6))\n",
        "print(a)\n",
        "b = a[3:6,2:5]\n",
        "print(b)"
      ],
      "metadata": {
        "colab": {
          "base_uri": "https://localhost:8080/"
        },
        "id": "MyIzCN-0lqUn",
        "outputId": "06868191-14e2-48ec-a493-53c9ffe6f6a8"
      },
      "execution_count": 9,
      "outputs": [
        {
          "output_type": "stream",
          "name": "stdout",
          "text": [
            "[[26  6 32  1  9 10]\n",
            " [13 34 23 12 21 32]\n",
            " [19  1 28 24 11 28]\n",
            " [ 3 15 34 19 12 18]\n",
            " [ 4  1  7 22 18  3]\n",
            " [ 8  4 25 23 17 10]]\n",
            "[[34 19 12]\n",
            " [ 7 22 18]\n",
            " [25 23 17]]\n"
          ]
        }
      ]
    },
    {
      "cell_type": "code",
      "source": [
        "a = np.random.randint(1,25, (5,5))\n",
        "print(a)\n",
        "\n",
        "b = np.concatenate((a[0],a[-1],a[:,0],a[:,-1]))\n",
        "\n",
        "print(b)"
      ],
      "metadata": {
        "colab": {
          "base_uri": "https://localhost:8080/"
        },
        "id": "HO58krLXmSLG",
        "outputId": "da23647d-d313-4bc3-ddf9-5e14cf0adad3"
      },
      "execution_count": 19,
      "outputs": [
        {
          "output_type": "stream",
          "name": "stdout",
          "text": [
            "[[ 9  3 10 20 15]\n",
            " [ 7 16 15 21 12]\n",
            " [16  4 13  7  7]\n",
            " [ 8 18 20 13  9]\n",
            " [ 5  4 11  9 16]]\n",
            "[ 9  3 10 20 15  5  4 11  9 16  9  7 16  8  5 15 12  7  9 16]\n"
          ]
        }
      ]
    },
    {
      "cell_type": "markdown",
      "source": [
        "### Array Operations\n",
        "\n",
        "1. Create two NumPy arrays of shape (3, 4) filled with random integers. Perform element-wise addition, subtraction, multiplication, and division.\n",
        "2. Create a NumPy array of shape (4, 4) with values from 1 to 16. Compute the row-wise and column-wise sum."
      ],
      "metadata": {
        "id": "S-ZPwwUxkGJ5"
      }
    },
    {
      "cell_type": "code",
      "source": [],
      "metadata": {
        "id": "0dgxle8jnsqP"
      },
      "execution_count": null,
      "outputs": []
    },
    {
      "cell_type": "markdown",
      "source": [
        "### Statistical Operations\n",
        "\n",
        "1. Create a NumPy array of shape (5, 5) filled with random integers. Compute the mean, median, standard deviation, and variance of the array."
      ],
      "metadata": {
        "id": "LrbrFr89kI1B"
      }
    },
    {
      "cell_type": "markdown",
      "source": [],
      "metadata": {
        "id": "wdt_vlr-kTE4"
      }
    },
    {
      "cell_type": "markdown",
      "source": [
        "### Broadcasting\n",
        "\n",
        "1. Create a NumPy array of shape (3, 3) filled with random integers. Add a 1D array of shape (3,) to each row of the 2D array using broadcasting.\n",
        "2. Create a NumPy array of shape (4, 4) filled with random integers. Subtract a 1D array of shape (4,) from each column of the 2D array using broadcasting."
      ],
      "metadata": {
        "id": "V9erZxWlkLbR"
      }
    },
    {
      "cell_type": "markdown",
      "source": [
        "### Linear Algebra\n",
        "\n",
        "1. Create two NumPy arrays of shape (2, 3) and (3, 2). Perform matrix multiplication on these arrays."
      ],
      "metadata": {
        "id": "G5u4YarnkOzi"
      }
    },
    {
      "cell_type": "markdown",
      "source": [
        "### Advanced Array Manipulation\n",
        "\n",
        "1. Create a NumPy array of shape (3, 3) with values from 1 to 9. Reshape the array to shape (1, 9) and then to shape (9, 1).\n",
        "2. Create a NumPy array of shape (5, 5) filled with random integers. Flatten the array and then reshape it back to (5, 5)."
      ],
      "metadata": {
        "id": "ugY8K1LlkQ9m"
      }
    },
    {
      "cell_type": "markdown",
      "source": [
        "### **Boolean Indexing**\n",
        "\n",
        "1. Create a NumPy array of shape (4, 4) filled with random integers. Use boolean indexing to set all elements greater than 10 to 10."
      ],
      "metadata": {
        "id": "yRp4tMcvkUeK"
      }
    }
  ]
}