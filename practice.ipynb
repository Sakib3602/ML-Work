{
  "nbformat": 4,
  "nbformat_minor": 0,
  "metadata": {
    "colab": {
      "provenance": [],
      "authorship_tag": "ABX9TyNyD39Bmxg6UXQI54dh/7Mt",
      "include_colab_link": true
    },
    "kernelspec": {
      "name": "python3",
      "display_name": "Python 3"
    },
    "language_info": {
      "name": "python"
    }
  },
  "cells": [
    {
      "cell_type": "markdown",
      "metadata": {
        "id": "view-in-github",
        "colab_type": "text"
      },
      "source": [
        "<a href=\"https://colab.research.google.com/github/Sakib3602/python/blob/main/practice.ipynb\" target=\"_parent\"><img src=\"https://colab.research.google.com/assets/colab-badge.svg\" alt=\"Open In Colab\"/></a>"
      ]
    },
    {
      "cell_type": "code",
      "execution_count": null,
      "metadata": {
        "colab": {
          "base_uri": "https://localhost:8080/"
        },
        "id": "_N6cNCdrf5Z3",
        "outputId": "cfabee21-2744-4cc5-f4d6-f63da8d43b79"
      },
      "outputs": [
        {
          "output_type": "stream",
          "name": "stdout",
          "text": [
            "60 50\n",
            "ON\n"
          ]
        }
      ],
      "source": [
        "\n",
        "brightness , threshold = map(int, input().split())\n",
        "if brightness >= threshold:\n",
        "  print(\"ON\")\n",
        "else:\n",
        "  print(\"OFF\")"
      ]
    },
    {
      "cell_type": "code",
      "source": [
        "# norm = (x - min_v) / (max_v - min_v)\n",
        "x , min_v , max_v = map(float , input().split())\n",
        "\n",
        "norm = (x - min_v) / (max_v - min_v)\n",
        "print(format(norm, \".2f\"))"
      ],
      "metadata": {
        "colab": {
          "base_uri": "https://localhost:8080/"
        },
        "id": "L7sDsuKCgAb7",
        "outputId": "b9e97dc0-dc7f-4e8f-c7bf-deeb3853b3aa"
      },
      "execution_count": null,
      "outputs": [
        {
          "output_type": "stream",
          "name": "stdout",
          "text": [
            "2.5 0 10\n",
            "0.25\n"
          ]
        }
      ]
    },
    {
      "cell_type": "code",
      "source": [
        "N = int(input())\n",
        "target = float(input())\n",
        "total = 0.00\n",
        "count = 0\n",
        "\n",
        "while count < N:\n",
        "  loss = float(input())\n",
        "  total += loss\n",
        "  count += 1\n",
        "avg = total / N\n",
        "if avg <= target:\n",
        "  print(\"PASS\")\n",
        "else:\n",
        "  print(\"RETRY\")\n",
        "\n"
      ],
      "metadata": {
        "colab": {
          "base_uri": "https://localhost:8080/"
        },
        "id": "X5_9v2dZjJaA",
        "outputId": "459879dd-a4b5-453b-cfff-5118cb0ae293"
      },
      "execution_count": null,
      "outputs": [
        {
          "output_type": "stream",
          "name": "stdout",
          "text": [
            "3\n",
            "0.35\n",
            "0.20\n",
            "0.30\n",
            "0.40\n",
            "PASS\n"
          ]
        }
      ]
    },
    {
      "cell_type": "code",
      "source": [
        "text = input()\n",
        "if 'happy' in text.lower() or \"joy\" in text.lower() or \"smile\" in text.lower():\n",
        "  print(\"Happy Mood\")\n",
        "elif \"sad\" in text.lower() or \"cry\" in text.lower() or  \"angry\" in text.lower():\n",
        "  print(\"Sad Mood\")\n",
        "else:\n",
        "  print(\"Neutral Mood\")"
      ],
      "metadata": {
        "colab": {
          "base_uri": "https://localhost:8080/"
        },
        "id": "sZnNGHsqlCzq",
        "outputId": "eaf7a2ed-f260-4b0c-d679-5ba2070b5420"
      },
      "execution_count": null,
      "outputs": [
        {
          "output_type": "stream",
          "name": "stdout",
          "text": [
            "if i fuck you then i will be HAPPY\n",
            "Happy Mood\n"
          ]
        }
      ]
    },
    {
      "cell_type": "code",
      "source": [
        "# ai, data, model, learn, train, neural\n",
        "text = input().lower().split()\n",
        "count = 0\n",
        "for i in text:\n",
        "  if i == \"ai\" or i == \"data\" or i == \"model\" or i == \"learn\" or i == \"train\" or i == \"neural\":\n",
        "    count += 1\n",
        "\n",
        "if count >= 2:\n",
        "  print(\"AI Detected\")\n",
        "else:\n",
        "  print(\"Not AI Related\")\n"
      ],
      "metadata": {
        "colab": {
          "base_uri": "https://localhost:8080/"
        },
        "id": "36kGAh7ztRQe",
        "outputId": "ad37361a-ee55-4058-80ed-6937ba700c49"
      },
      "execution_count": null,
      "outputs": [
        {
          "output_type": "stream",
          "name": "stdout",
          "text": [
            "I Love to train\n",
            "1\n",
            "NOT AI Detected\n"
          ]
        }
      ]
    },
    {
      "cell_type": "code",
      "source": [
        "# regff\n",
        "text = input().lower()\n",
        "print(text)\n",
        "d = []\n",
        "for x in text:\n",
        "\n"
      ],
      "metadata": {
        "colab": {
          "base_uri": "https://localhost:8080/"
        },
        "id": "2H9DrZCP8JvF",
        "outputId": "f7118661-bd07-4337-eed3-e3e8b7ebc5d5"
      },
      "execution_count": null,
      "outputs": [
        {
          "output_type": "stream",
          "name": "stdout",
          "text": [
            "aabbccdd\n",
            "aabbccdd\n"
          ]
        }
      ]
    }
  ]
}