{
  "nbformat": 4,
  "nbformat_minor": 0,
  "metadata": {
    "colab": {
      "provenance": [],
      "mount_file_id": "1x5dhho_c6i2fwemRK9lAuxKGJwytmHrN",
      "authorship_tag": "ABX9TyNya8C8j8tiHGSYhnw4NtLW",
      "include_colab_link": true
    },
    "kernelspec": {
      "name": "python3",
      "display_name": "Python 3"
    },
    "language_info": {
      "name": "python"
    }
  },
  "cells": [
    {
      "cell_type": "markdown",
      "metadata": {
        "id": "view-in-github",
        "colab_type": "text"
      },
      "source": [
        "<a href=\"https://colab.research.google.com/github/Sakib3602/python/blob/main/file_handeling.ipynb\" target=\"_parent\"><img src=\"https://colab.research.google.com/assets/colab-badge.svg\" alt=\"Open In Colab\"/></a>"
      ]
    },
    {
      "cell_type": "code",
      "execution_count": null,
      "metadata": {
        "colab": {
          "base_uri": "https://localhost:8080/"
        },
        "id": "93s1TSj26LJa",
        "outputId": "1b7b9cc7-c1da-4815-9474-74ea081b45d6"
      },
      "outputs": [
        {
          "output_type": "stream",
          "name": "stdout",
          "text": [
            "hello how are you?\n",
            "are you mad?\n",
            "\n"
          ]
        }
      ],
      "source": [
        "file = open(\"./sample_data/sample.txt\", \"r\")\n",
        "content = file.read()\n",
        "print(content)"
      ]
    },
    {
      "cell_type": "markdown",
      "source": [
        "file.readline\n"
      ],
      "metadata": {
        "id": "DW1qAsc_7jLO"
      }
    },
    {
      "cell_type": "code",
      "source": [
        "#red line korle list a convert kore\n",
        "file = open(\"./sample_data/sample.txt\", \"r\")\n",
        "content = file.readlines()\n",
        "print(content)\n",
        "file.close() # must close file\n",
        "print(file.closed)"
      ],
      "metadata": {
        "colab": {
          "base_uri": "https://localhost:8080/"
        },
        "id": "vr8yU0QI7hpb",
        "outputId": "c2e6806a-3590-4937-cb8d-6f4d3d12e0bc"
      },
      "execution_count": null,
      "outputs": [
        {
          "output_type": "stream",
          "name": "stdout",
          "text": [
            "['hello how are you?\\n', 'are you mad?\\n', '\\n', '\\n']\n",
            "True\n"
          ]
        }
      ]
    },
    {
      "cell_type": "code",
      "source": [],
      "metadata": {
        "id": "q7zUNDNb7h6F"
      },
      "execution_count": null,
      "outputs": []
    },
    {
      "cell_type": "markdown",
      "source": [
        "**using with open file**"
      ],
      "metadata": {
        "id": "OCh5rU678f3p"
      }
    },
    {
      "cell_type": "code",
      "source": [
        "# using with file auto close\n",
        "with open(\"./sample_data/sample.txt\", \"r\") as file:\n",
        "  print(file.readlines())\n",
        "print(file.closed)"
      ],
      "metadata": {
        "colab": {
          "base_uri": "https://localhost:8080/"
        },
        "id": "loQqaqMc7h_9",
        "outputId": "810549c4-6a6a-4634-8435-5519edbe6238"
      },
      "execution_count": null,
      "outputs": [
        {
          "output_type": "stream",
          "name": "stdout",
          "text": [
            "['hello how are you?\\n', 'are you mad?\\n', '\\n', '\\n']\n",
            "True\n"
          ]
        }
      ]
    },
    {
      "cell_type": "code",
      "source": [
        "# only line print\n",
        "with open(\"./sample_data/sample.txt\", \"r\") as file:\n",
        "  for li in file:\n",
        "    print(li,end=\"\")"
      ],
      "metadata": {
        "colab": {
          "base_uri": "https://localhost:8080/"
        },
        "id": "SRun1xf27iCQ",
        "outputId": "e0436f6a-46f3-4675-a48f-c2028fb7d4d0"
      },
      "execution_count": null,
      "outputs": [
        {
          "output_type": "stream",
          "name": "stdout",
          "text": [
            "hello sakib\n",
            "are you ok?\n",
            "where is your gym bag?"
          ]
        }
      ]
    },
    {
      "cell_type": "markdown",
      "source": [
        "# write file\n",
        "\n",
        "---\n",
        "\n"
      ],
      "metadata": {
        "id": "GgI6CRAV-jXB"
      }
    },
    {
      "cell_type": "code",
      "source": [
        "with open(\"./sample_data/sample.txt\", \"a\") as file:\n",
        "  x = input()\n",
        "  file.write(f\"{x}\\n\")\n"
      ],
      "metadata": {
        "id": "Ylv6u29D7iFC",
        "colab": {
          "base_uri": "https://localhost:8080/"
        },
        "outputId": "878a0222-9dad-4642-ceb2-fab0b27f2ac6"
      },
      "execution_count": null,
      "outputs": [
        {
          "name": "stdout",
          "output_type": "stream",
          "text": [
            "ok\n"
          ]
        }
      ]
    },
    {
      "cell_type": "code",
      "source": [
        "with open(\"./sample_data/sample.txt\", \"w\") as file:\n",
        "  x = input()\n",
        "  file.write(f\"{x}\\n\")"
      ],
      "metadata": {
        "id": "cs-xwN9K7iIK",
        "colab": {
          "base_uri": "https://localhost:8080/"
        },
        "outputId": "e52c09e8-6fc1-46b7-f2d4-989aea7c8697"
      },
      "execution_count": null,
      "outputs": [
        {
          "name": "stdout",
          "output_type": "stream",
          "text": [
            "'\n"
          ]
        }
      ]
    },
    {
      "cell_type": "markdown",
      "source": [
        "# **Practice**"
      ],
      "metadata": {
        "id": "1i5KH8bbWnib"
      }
    },
    {
      "cell_type": "code",
      "source": [
        "# total word\n",
        "with open(\"./sample_data/sample.txt\", \"r\") as file:\n",
        "  tx = file.read()\n",
        "  word = tx.split()\n",
        "  print(len(word))"
      ],
      "metadata": {
        "id": "RDUlMjWl7iLp",
        "colab": {
          "base_uri": "https://localhost:8080/"
        },
        "outputId": "b97a77c7-0292-4438-a46b-42bdac70680d"
      },
      "execution_count": null,
      "outputs": [
        {
          "output_type": "stream",
          "name": "stdout",
          "text": [
            "22\n"
          ]
        }
      ]
    },
    {
      "cell_type": "code",
      "source": [
        "# total line\n",
        "with open(\"./sample_data/sample.txt\", \"r\") as file:\n",
        "  tx = file.readlines()\n",
        "  print(len(tx))"
      ],
      "metadata": {
        "colab": {
          "base_uri": "https://localhost:8080/"
        },
        "id": "TrkwmkJJWlXq",
        "outputId": "e15a4ade-dfe7-4d6f-9b51-71f7d96bb838"
      },
      "execution_count": null,
      "outputs": [
        {
          "output_type": "stream",
          "name": "stdout",
          "text": [
            "['hello sakib\\n', 'are you ok?\\n', 'where is your gym bag?Are you going to university tommorow?\\n', 'Dont worry you are the best\\\\nhello  \\n', 'ok\\n']\n",
            "5\n"
          ]
        }
      ]
    },
    {
      "cell_type": "code",
      "source": [
        "# total charecter find\n",
        "with open(\"./sample_data/sample.txt\", \"r\") as file:\n",
        "    tx = file.read()\n",
        "    ttxx = tx.replace(\" \", \"\").replace(\"\\n\" , \"\")\n",
        "    print(len(ttxx))\n",
        "\n",
        "with open(\"./sample_data/new.txt\", \"w\") as file:\n",
        "  b = file.write(ttxx)\n"
      ],
      "metadata": {
        "colab": {
          "base_uri": "https://localhost:8080/"
        },
        "id": "eY4Ch5vhWmVt",
        "outputId": "2153e7be-de2d-4022-9676-c70a588a6a0f"
      },
      "execution_count": null,
      "outputs": [
        {
          "output_type": "stream",
          "name": "stdout",
          "text": [
            "41\n"
          ]
        }
      ]
    },
    {
      "cell_type": "code",
      "source": [
        "from google.colab import drive\n",
        "drive.mount('/content/drive')"
      ],
      "metadata": {
        "id": "bEXiOp3wehh3"
      },
      "execution_count": null,
      "outputs": []
    },
    {
      "cell_type": "markdown",
      "source": [
        "# **File pointer**"
      ],
      "metadata": {
        "id": "M45R0YPvcHsn"
      }
    },
    {
      "cell_type": "code",
      "source": [
        "## seek , tell\n",
        "with open(\"./sample_data/sample.txt\", \"r\") as file:\n",
        "  x = file.read(41)\n",
        "  print(x.replace(\"\\n\" , \" \"))\n",
        "  print(file.tell())\n",
        "\n",
        "  x = file.seek(12)\n",
        "  print(file.tell())\n"
      ],
      "metadata": {
        "colab": {
          "base_uri": "https://localhost:8080/"
        },
        "id": "PdDkL-wWcOPh",
        "outputId": "9c6b6b2d-c429-466a-e7dd-6eff837dbcc1"
      },
      "execution_count": null,
      "outputs": [
        {
          "output_type": "stream",
          "name": "stdout",
          "text": [
            "hello sakib are you ok? where is your gym\n",
            "41\n",
            "12\n"
          ]
        }
      ]
    },
    {
      "cell_type": "code",
      "source": [],
      "metadata": {
        "id": "rQnPxKsPcOBn"
      },
      "execution_count": null,
      "outputs": []
    },
    {
      "cell_type": "code",
      "source": [],
      "metadata": {
        "id": "XUmFTt97cN1o"
      },
      "execution_count": null,
      "outputs": []
    }
  ]
}