{
  "nbformat": 4,
  "nbformat_minor": 0,
  "metadata": {
    "colab": {
      "provenance": [],
      "authorship_tag": "ABX9TyOosuYpmnRSKjU4xNm+y6A3",
      "include_colab_link": true
    },
    "kernelspec": {
      "name": "python3",
      "display_name": "Python 3"
    },
    "language_info": {
      "name": "python"
    }
  },
  "cells": [
    {
      "cell_type": "markdown",
      "metadata": {
        "id": "view-in-github",
        "colab_type": "text"
      },
      "source": [
        "<a href=\"https://colab.research.google.com/github/Sakib3602/ML-Work/blob/main/Numpy.ipynb\" target=\"_parent\"><img src=\"https://colab.research.google.com/assets/colab-badge.svg\" alt=\"Open In Colab\"/></a>"
      ]
    },
    {
      "cell_type": "markdown",
      "source": [
        "# **Numpy ND-Array**"
      ],
      "metadata": {
        "id": "0O-zba1tMjVj"
      }
    },
    {
      "cell_type": "code",
      "source": [
        "import numpy as np\n",
        "arr1 = np.array([10,20,30,40])\n",
        "print(arr1)\n",
        "print(arr1.ndim)\n",
        "\n",
        "arr2 = np.array([[10,20],[40,50]])\n",
        "print(arr2)\n",
        "print(arr2.ndim)\n",
        "\n",
        "arr3 = np.array([[[1,2,3],[4,5,6]],[[7,8,9],[10,22,33]]])\n",
        "\n",
        "print(arr3)\n",
        "print(arr3.ndim)"
      ],
      "metadata": {
        "colab": {
          "base_uri": "https://localhost:8080/"
        },
        "id": "zbHfn_aoMsBn",
        "outputId": "2c9b631c-754b-4604-ff59-656d035cec0f"
      },
      "execution_count": null,
      "outputs": [
        {
          "output_type": "stream",
          "name": "stdout",
          "text": [
            "[10 20 30 40]\n",
            "1\n",
            "[[10 20]\n",
            " [40 50]]\n",
            "2\n",
            "[[[ 1  2  3]\n",
            "  [ 4  5  6]]\n",
            "\n",
            " [[ 7  8  9]\n",
            "  [10 22 33]]]\n",
            "3\n"
          ]
        }
      ]
    },
    {
      "cell_type": "markdown",
      "source": [],
      "metadata": {
        "id": "9fruIC7_R5Iw"
      }
    },
    {
      "cell_type": "markdown",
      "source": [
        "# **Shape**"
      ],
      "metadata": {
        "id": "jwzrjhUqMzGT"
      }
    },
    {
      "cell_type": "code",
      "source": [
        "print(arr1.shape)\n",
        "print(arr2.shape)\n",
        "print(arr3.shape)"
      ],
      "metadata": {
        "colab": {
          "base_uri": "https://localhost:8080/"
        },
        "id": "yPBqsXzUM1Ip",
        "outputId": "fb94723f-7e86-4ea2-9374-e2af4f3ec6a6"
      },
      "execution_count": null,
      "outputs": [
        {
          "output_type": "stream",
          "name": "stdout",
          "text": [
            "(4,)\n",
            "(2, 2)\n",
            "(2, 2, 3)\n"
          ]
        }
      ]
    },
    {
      "cell_type": "markdown",
      "source": [
        "# **Size**"
      ],
      "metadata": {
        "id": "QraT2P3JM7WS"
      }
    },
    {
      "cell_type": "code",
      "source": [
        "print(arr1.size)\n",
        "print(arr2.size)\n",
        "print(arr3.size)"
      ],
      "metadata": {
        "colab": {
          "base_uri": "https://localhost:8080/"
        },
        "id": "dP7x_ZRXM-BW",
        "outputId": "1fc1f709-1190-4fd8-93e2-8bdd5f60f72c"
      },
      "execution_count": null,
      "outputs": [
        {
          "output_type": "stream",
          "name": "stdout",
          "text": [
            "4\n",
            "4\n",
            "12\n"
          ]
        }
      ]
    },
    {
      "cell_type": "markdown",
      "source": [
        "type"
      ],
      "metadata": {
        "id": "Odzw3A7GOI1U"
      }
    },
    {
      "cell_type": "code",
      "source": [
        "print(arr1.dtype)\n",
        "print(arr2.dtype)\n",
        "print(arr3.dtype)"
      ],
      "metadata": {
        "colab": {
          "base_uri": "https://localhost:8080/"
        },
        "id": "_RbhC9PmOKgO",
        "outputId": "19006f91-7017-417c-d1fa-b224e521b4e7"
      },
      "execution_count": null,
      "outputs": [
        {
          "output_type": "stream",
          "name": "stdout",
          "text": [
            "int64\n",
            "int64\n",
            "int64\n"
          ]
        }
      ]
    },
    {
      "cell_type": "code",
      "source": [
        "s = np.array([10,20.8,\"s\"])\n",
        "print(s)\n",
        "print(s.dtype)"
      ],
      "metadata": {
        "colab": {
          "base_uri": "https://localhost:8080/"
        },
        "id": "xqYVV3jgOdxd",
        "outputId": "bd3d060e-bebe-4a4f-ae8a-7b6e2ff2684e"
      },
      "execution_count": null,
      "outputs": [
        {
          "output_type": "stream",
          "name": "stdout",
          "text": [
            "['10' '20.8' 's']\n",
            "<U32\n"
          ]
        }
      ]
    },
    {
      "cell_type": "code",
      "source": [
        "a = np.array([10,20.8,\"k\"])\n",
        "print(a )"
      ],
      "metadata": {
        "colab": {
          "base_uri": "https://localhost:8080/"
        },
        "id": "ZwKseGByO78A",
        "outputId": "4c2fa39e-c1bd-4251-8cf1-af593663abf3"
      },
      "execution_count": null,
      "outputs": [
        {
          "output_type": "stream",
          "name": "stdout",
          "text": [
            "['10' '20.8' 'k']\n"
          ]
        }
      ]
    },
    {
      "cell_type": "markdown",
      "source": [
        "# *Selecting data type***"
      ],
      "metadata": {
        "id": "hHZV3GnuPWxD"
      }
    },
    {
      "cell_type": "code",
      "source": [
        "m = np.array([10,20,30] , dtype = np.int8)\n",
        "print(m)\n"
      ],
      "metadata": {
        "colab": {
          "base_uri": "https://localhost:8080/"
        },
        "id": "PqlMvUS5Pb49",
        "outputId": "79d5b55d-6283-4472-f882-456f03b0e7ff"
      },
      "execution_count": null,
      "outputs": [
        {
          "output_type": "stream",
          "name": "stdout",
          "text": [
            "[10 20 30]\n"
          ]
        }
      ]
    },
    {
      "cell_type": "markdown",
      "source": [
        "# **Convert to Nd array**"
      ],
      "metadata": {
        "id": "7S5PGylzQzrQ"
      }
    },
    {
      "cell_type": "code",
      "source": [
        "a = [10,3,2,1,]\n",
        "aa = np.array(a)\n",
        "print(aa, \"===\" , type(aa))\n"
      ],
      "metadata": {
        "colab": {
          "base_uri": "https://localhost:8080/"
        },
        "id": "9YCJgp_eQ5WY",
        "outputId": "712cab77-388e-408e-ac65-11d78c91a667"
      },
      "execution_count": null,
      "outputs": [
        {
          "output_type": "stream",
          "name": "stdout",
          "text": [
            "[10  3  2  1] === <class 'numpy.ndarray'>\n"
          ]
        }
      ]
    },
    {
      "cell_type": "markdown",
      "source": [
        "# Tupple"
      ],
      "metadata": {
        "id": "uZQ0j3JUR6kf"
      }
    },
    {
      "cell_type": "code",
      "source": [
        "a = (2,3,4)\n",
        "a = np.array(a)\n",
        "print(a , \"== \", type(a))"
      ],
      "metadata": {
        "colab": {
          "base_uri": "https://localhost:8080/"
        },
        "id": "rLuTSzLkR9N6",
        "outputId": "a27ffbc9-95f6-4bb5-ace4-2f33d49d7e26"
      },
      "execution_count": null,
      "outputs": [
        {
          "output_type": "stream",
          "name": "stdout",
          "text": [
            "[2 3 4] ==  <class 'numpy.ndarray'>\n"
          ]
        }
      ]
    },
    {
      "cell_type": "markdown",
      "source": [
        "# **Set convert must convert in list first otherwise type will be object**"
      ],
      "metadata": {
        "id": "FTJzbLAZTMXE"
      }
    },
    {
      "cell_type": "code",
      "source": [
        "x ={1,2,4}\n",
        "x = np.array(list(x))\n",
        "print(type(x))\n",
        "print(x.dtype)"
      ],
      "metadata": {
        "colab": {
          "base_uri": "https://localhost:8080/"
        },
        "id": "eF9v5xBaTQR7",
        "outputId": "5ae3c68f-dce8-409b-ff28-4e5634f9712d"
      },
      "execution_count": null,
      "outputs": [
        {
          "output_type": "stream",
          "name": "stdout",
          "text": [
            "<class 'numpy.ndarray'>\n",
            "int64\n"
          ]
        }
      ]
    },
    {
      "cell_type": "markdown",
      "source": [
        "# ***Dictionary must convert in list first otherwise type will be object***"
      ],
      "metadata": {
        "id": "sk22OUvBT4iL"
      }
    },
    {
      "cell_type": "code",
      "source": [
        "d = { 'a' : 10, \"b\" : 20, \"c\":30}\n",
        "print(d)\n",
        "\n",
        "d1 = d.keys()\n",
        "d2 = d.values()\n",
        "d3 = d.items()\n",
        "print(d1)\n",
        "print(d2)\n",
        "print(d3)\n",
        "\n",
        "\n",
        "\n",
        "\n",
        "print(\"===================\")\n",
        "dic = np.array(list(d1))\n",
        "print(dic)\n",
        "print(dic.dtype)\n",
        "dic1 = np.array(list(d2), dtype= np.int8)\n",
        "print(dic1)\n",
        "print(dic1.dtype)\n",
        "print(type(dic1))"
      ],
      "metadata": {
        "colab": {
          "base_uri": "https://localhost:8080/"
        },
        "id": "94ZhsSsLT9Og",
        "outputId": "224686d9-9e39-4985-fc0b-418fc31337e0"
      },
      "execution_count": null,
      "outputs": [
        {
          "output_type": "stream",
          "name": "stdout",
          "text": [
            "{'a': 10, 'b': 20, 'c': 30}\n",
            "dict_keys(['a', 'b', 'c'])\n",
            "dict_values([10, 20, 30])\n",
            "dict_items([('a', 10), ('b', 20), ('c', 30)])\n",
            "===================\n",
            "['a' 'b' 'c']\n",
            "<U1\n",
            "[10 20 30]\n",
            "int8\n",
            "<class 'numpy.ndarray'>\n"
          ]
        }
      ]
    },
    {
      "cell_type": "markdown",
      "source": [
        "# **Zeros**"
      ],
      "metadata": {
        "id": "qj5xY3-1WQDa"
      }
    },
    {
      "cell_type": "code",
      "source": [
        "op = np.zeros((2,3))\n",
        "print(op)\n",
        "\n",
        "ak = np.zeros_like(arr3)\n",
        "print(ak)"
      ],
      "metadata": {
        "colab": {
          "base_uri": "https://localhost:8080/"
        },
        "id": "kDs5UrQoWSwE",
        "outputId": "c4a8d967-7b05-4262-ecd9-18811646164c"
      },
      "execution_count": null,
      "outputs": [
        {
          "output_type": "stream",
          "name": "stdout",
          "text": [
            "[[0. 0. 0.]\n",
            " [0. 0. 0.]]\n",
            "[[[0 0 0]\n",
            "  [0 0 0]]\n",
            "\n",
            " [[0 0 0]\n",
            "  [0 0 0]]]\n"
          ]
        }
      ]
    },
    {
      "cell_type": "markdown",
      "source": [
        "Ones\n"
      ],
      "metadata": {
        "id": "HEb40GvYXGZD"
      }
    },
    {
      "cell_type": "code",
      "source": [
        "one = np.ones((2,2))\n",
        "ons = np.ones_like(arr3)\n",
        "\n",
        "print(one)\n",
        "print(ons)"
      ],
      "metadata": {
        "colab": {
          "base_uri": "https://localhost:8080/"
        },
        "id": "4AGmkiz2XJlg",
        "outputId": "44103c52-f232-4614-ce73-23139f65947f"
      },
      "execution_count": null,
      "outputs": [
        {
          "output_type": "stream",
          "name": "stdout",
          "text": [
            "[[1. 1.]\n",
            " [1. 1.]]\n",
            "[[[1 1 1]\n",
            "  [1 1 1]]\n",
            "\n",
            " [[1 1 1]\n",
            "  [1 1 1]]]\n"
          ]
        }
      ]
    },
    {
      "cell_type": "markdown",
      "source": [
        "**Array creation with random **"
      ],
      "metadata": {
        "id": "PZkg4LSlYAli"
      }
    },
    {
      "cell_type": "code",
      "source": [
        "s = np.random.rand(2,3)\n",
        "print(s)\n",
        "\n",
        "ss = np.random.randint(1,9 , (1,7))\n",
        "print(ss)\n",
        "ss = np.random.uniform(1,9 , (3,3,3))\n",
        "print(ss)"
      ],
      "metadata": {
        "colab": {
          "base_uri": "https://localhost:8080/"
        },
        "id": "RDMTWtR5Yi51",
        "outputId": "2a4d4778-746e-4d8c-ab48-38c7e69c6c34"
      },
      "execution_count": null,
      "outputs": [
        {
          "output_type": "stream",
          "name": "stdout",
          "text": [
            "[[0.86088494 0.35207581 0.35516174]\n",
            " [0.22346495 0.43173288 0.7306844 ]]\n",
            "[[3 2 5 8 7 8 6]]\n",
            "[[[2.10665691 4.50361721 2.11953068]\n",
            "  [1.21555615 4.9752339  4.00929565]\n",
            "  [3.68268831 8.70111971 8.60579524]]\n",
            "\n",
            " [[8.60994334 2.14496841 2.19389881]\n",
            "  [3.93576886 8.33351906 8.81913124]\n",
            "  [3.34712027 6.90547666 6.43973383]]\n",
            "\n",
            " [[2.34715523 8.16383582 6.29131613]\n",
            "  [3.54434117 3.24901418 8.02180166]\n",
            "  [3.9707905  6.4676066  4.82248944]]]\n"
          ]
        }
      ]
    },
    {
      "cell_type": "markdown",
      "source": [
        "with rang => (first , end , step)"
      ],
      "metadata": {
        "id": "J_eNK45EZ-i3"
      }
    },
    {
      "cell_type": "code",
      "source": [
        "k = np.arange(1,10, 1)\n",
        "print(k)\n",
        "k = k.reshape(3,3)\n",
        "print(k)"
      ],
      "metadata": {
        "colab": {
          "base_uri": "https://localhost:8080/"
        },
        "id": "3EnwsRRZaHyh",
        "outputId": "7729f6bb-c48d-46cb-b5c9-0927b2de2518"
      },
      "execution_count": null,
      "outputs": [
        {
          "output_type": "stream",
          "name": "stdout",
          "text": [
            "[1 2 3 4 5 6 7 8 9]\n",
            "[[1 2 3]\n",
            " [4 5 6]\n",
            " [7 8 9]]\n"
          ]
        }
      ]
    },
    {
      "cell_type": "markdown",
      "source": [
        "# **Diagonal matrix**"
      ],
      "metadata": {
        "id": "eApR7zCkoLvq"
      }
    },
    {
      "cell_type": "code",
      "source": [
        "v = np.diag([1,2,3])\n",
        "print(v)\n",
        "print(v.shape)"
      ],
      "metadata": {
        "colab": {
          "base_uri": "https://localhost:8080/"
        },
        "id": "v11Wh1t0oPQb",
        "outputId": "ab92ce49-5817-4c79-aa22-1bedfd7b293f"
      },
      "execution_count": null,
      "outputs": [
        {
          "output_type": "stream",
          "name": "stdout",
          "text": [
            "[[1 0 0]\n",
            " [0 2 0]\n",
            " [0 0 3]]\n",
            "(3, 3)\n"
          ]
        }
      ]
    },
    {
      "cell_type": "markdown",
      "source": [
        "# **Identity matrix**"
      ],
      "metadata": {
        "id": "oqrJ96N-otqm"
      }
    },
    {
      "cell_type": "code",
      "source": [
        "i = np.eye(3)\n",
        "print(i)\n",
        "print(i.shape)\n",
        "print(\"---------\")\n",
        "i = np.eye(3,4,1) # k = - +\n",
        "print(i)\n",
        "print(i.shape)"
      ],
      "metadata": {
        "colab": {
          "base_uri": "https://localhost:8080/"
        },
        "id": "LlmuUKTuozeH",
        "outputId": "4049ab6d-02b6-49e3-d257-f54f8b727a74"
      },
      "execution_count": null,
      "outputs": [
        {
          "output_type": "stream",
          "name": "stdout",
          "text": [
            "[[1. 0. 0.]\n",
            " [0. 1. 0.]\n",
            " [0. 0. 1.]]\n",
            "(3, 3)\n",
            "---------\n",
            "[[0. 1. 0. 0.]\n",
            " [0. 0. 1. 0.]\n",
            " [0. 0. 0. 1.]]\n",
            "(3, 4)\n"
          ]
        }
      ]
    },
    {
      "cell_type": "markdown",
      "source": [
        "# **Indexing ND array**"
      ],
      "metadata": {
        "id": "n7J7SNUdp33z"
      }
    },
    {
      "cell_type": "code",
      "source": [
        "print(arr1)\n",
        "print(arr2)\n",
        "\n",
        "# arr1[1] = 200\n",
        "# print(arr1)\n",
        "\n",
        "arr2[0][1] = 0\n",
        "print(arr2)"
      ],
      "metadata": {
        "colab": {
          "base_uri": "https://localhost:8080/"
        },
        "id": "9Nc22pH0p7aV",
        "outputId": "024b493a-809c-417b-df2b-b8ea7c787219"
      },
      "execution_count": null,
      "outputs": [
        {
          "output_type": "stream",
          "name": "stdout",
          "text": [
            "[ 10 200  30  40]\n",
            "[[ 10  20]\n",
            " [ 30 300]]\n",
            "[[ 10   0]\n",
            " [ 30 300]]\n"
          ]
        }
      ]
    },
    {
      "cell_type": "markdown",
      "source": [
        "# **Slicing**"
      ],
      "metadata": {
        "id": "7uwJw0w0qiWD"
      }
    },
    {
      "cell_type": "code",
      "source": [
        "ar1 = arr1[0:3:2]\n",
        "print(ar1)\n",
        "\n",
        "aq = arr2[0:1,0:1]\n",
        "print(aq)\n",
        "\n",
        "aq = arr2[0:1,]\n",
        "print(aq)"
      ],
      "metadata": {
        "colab": {
          "base_uri": "https://localhost:8080/"
        },
        "id": "A_4GG8pOqonz",
        "outputId": "07de0158-7829-48b9-f9d6-434931e3225c"
      },
      "execution_count": null,
      "outputs": [
        {
          "output_type": "stream",
          "name": "stdout",
          "text": [
            "[10 30]\n",
            "[[10]]\n",
            "[[10  0]]\n"
          ]
        }
      ]
    },
    {
      "cell_type": "markdown",
      "source": [
        "# **Iterate**"
      ],
      "metadata": {
        "id": "yDCzGcxNvsyP"
      }
    },
    {
      "cell_type": "code",
      "source": [
        "m = np.array([[1,2,3,4],[5,6,7,8]])\n",
        "print(m)\n",
        "\n",
        "for i in m:\n",
        "  for j in i:\n",
        "    print(j)\n",
        "\n",
        "print(\"np.nditer()\")\n",
        "\n",
        "for i in np.nditer(m):\n",
        "  print(i)"
      ],
      "metadata": {
        "colab": {
          "base_uri": "https://localhost:8080/"
        },
        "id": "KUzrrl-Kvw8S",
        "outputId": "c4e7e036-c95c-4813-d94b-505956dde868"
      },
      "execution_count": null,
      "outputs": [
        {
          "output_type": "stream",
          "name": "stdout",
          "text": [
            "[[1 2 3 4]\n",
            " [5 6 7 8]]\n",
            "1\n",
            "2\n",
            "3\n",
            "4\n",
            "5\n",
            "6\n",
            "7\n",
            "8\n",
            "np.nditer()\n",
            "1\n",
            "2\n",
            "3\n",
            "4\n",
            "5\n",
            "6\n",
            "7\n",
            "8\n"
          ]
        }
      ]
    },
    {
      "cell_type": "code",
      "source": [
        "ax = np.array([1,2,3,4,5])\n",
        "ax[1:4] = 0\n",
        "print(ax)"
      ],
      "metadata": {
        "colab": {
          "base_uri": "https://localhost:8080/"
        },
        "id": "N_3HJ_gvx6lU",
        "outputId": "fa7651d7-6694-46d5-fcf1-3425ffc9ba79"
      },
      "execution_count": null,
      "outputs": [
        {
          "output_type": "stream",
          "name": "stdout",
          "text": [
            "[1 0 0 0 5]\n"
          ]
        }
      ]
    }
  ]
}